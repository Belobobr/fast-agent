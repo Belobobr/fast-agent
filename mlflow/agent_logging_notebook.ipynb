{
 "cells": [
  {
   "cell_type": "code",
   "execution_count": null,
   "id": "0ff2fddf",
   "metadata": {},
   "outputs": [],
   "source": []
  },
  {
   "cell_type": "code",
   "execution_count": 2,
   "id": "2155267b",
   "metadata": {},
   "outputs": [],
   "source": [
    "import os\n",
    "import openai\n",
    "import mlflow\n",
    "client = openai.OpenAI(\n",
    "    api_key=os.getenv('OPENAI_API_KEY'),\n",
    "    base_url=os.getenv('OPENAI_BASE_URL')\n",
    ")\n",
    "mlflow.set_tracking_uri(\"http://127.0.0.1:5001\")"
   ]
  },
  {
   "cell_type": "code",
   "execution_count": null,
   "id": "7d9dcf10",
   "metadata": {},
   "outputs": [],
   "source": [
    "import mlflow\n",
    "import openai\n",
    "import subprocess\n",
    "\n",
    "\n",
    "# Configure MLflow Tracking\n",
    "mlflow.set_experiment(\"my-genai-app\")\n",
    "\n",
    "# Get current git commit hash\n",
    "git_commit = (\n",
    "    subprocess.check_output([\"git\", \"rev-parse\", \"HEAD\"]).decode(\"ascii\").strip()[:8]\n",
    ")\n",
    "\n",
    "# Define your application version using the git commit\n",
    "app_name = \"customer_support_agent\"\n",
    "logged_model_name = f\"{app_name}-{git_commit}\"\n",
    "\n",
    "# Set the active model context - traces will be linked to this\n",
    "mlflow.set_active_model(name=logged_model_name)\n",
    "\n",
    "# Enable autologging for OpenAI, which automatically logs traces\n",
    "mlflow.openai.autolog()\n",
    "\n",
    "# Define and test your agent code - traces are automatically linked\n",
    "client = openai.OpenAI()\n",
    "questions = [\n",
    "    \"How do I reset my password?\",\n",
    "    \"What are your business hours?\",\n",
    "    \"Can I get a refund for my last order?\",\n",
    "    \"Where can I find the user manual for product model number 15869?\",\n",
    "    \"I'm having trouble with the payment page, can you help?\",\n",
    "]\n",
    "for question in questions:\n",
    "    response = client.chat.completions.create(\n",
    "        model=\"gpt-4o-mini\",\n",
    "        messages=[{\"role\": \"user\", \"content\": question}],\n",
    "        temperature=0.7,\n",
    "        max_tokens=1000,\n",
    "    )"
   ]
  }
 ],
 "metadata": {
  "kernelspec": {
   "display_name": "fast-agent",
   "language": "python",
   "name": "python3"
  },
  "language_info": {
   "codemirror_mode": {
    "name": "ipython",
    "version": 3
   },
   "file_extension": ".py",
   "mimetype": "text/x-python",
   "name": "python",
   "nbconvert_exporter": "python",
   "pygments_lexer": "ipython3",
   "version": "3.11.11"
  }
 },
 "nbformat": 4,
 "nbformat_minor": 5
}
